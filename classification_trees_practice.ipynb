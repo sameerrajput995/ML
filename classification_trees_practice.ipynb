{
  "nbformat": 4,
  "nbformat_minor": 0,
  "metadata": {
    "kernelspec": {
      "display_name": "Python 3",
      "language": "python",
      "name": "python3"
    },
    "language_info": {
      "codemirror_mode": {
        "name": "ipython",
        "version": 3
      },
      "file_extension": ".py",
      "mimetype": "text/x-python",
      "name": "python",
      "nbconvert_exporter": "python",
      "pygments_lexer": "ipython3",
      "version": "3.7.6"
    },
    "colab": {
      "name": "classification_trees_practice.ipynb",
      "provenance": [],
      "collapsed_sections": [
        "Wg48FS2D3GZQ",
        "ymrNiyiv3GZ6"
      ]
    },
    "accelerator": "GPU"
  },
  "cells": [
    {
      "cell_type": "markdown",
      "metadata": {
        "id": "jV1gZatL3GYB",
        "colab_type": "text"
      },
      "source": [
        "# Classification Trees in Python, From Start to Finish\n",
        "\n",
        "In this lesson we will use **scikit-learn** and **Cost Complexity Pruning** to build this **Classification Tree** (below), which uses continuous and categorical data from the **[UCI Machine Learning Repository](https://archive.ics.uci.edu/ml/index.php)** to predict whether or not a patient has **[heart disease](https://archive.ics.uci.edu/ml/datasets/Heart+Disease)**:\n",
        "\n",
        "<!-- The **Classification Tree** will use continuous and categorical data from the **[UCI Machine Learning Repository](https://archive.ics.uci.edu/ml/index.php)** to predict whether or not a patient has **[heart disease](https://archive.ics.uci.edu/ml/datasets/Heart+Disease)**\n",
        " -->\n",
        " \n",
        "<!-- If you are not already familiary with these terms, check out the **StatQuests:** **[Decision Trees Part 1: Building and Using](https://youtu.be/7VeUPuFGJHk)**, **[Part 2: Feature Selection and Missing Data](https://youtu.be/wpNl-JwwplA)** and **[How to Prune Regression Trees](https://youtu.be/D0efHEJsfHo)**. -->\n",
        "\n",
        "**Classification Trees** are an exceptionally useful machine learning method when you need to to know how the decisions are being made. For example, if you have to justify the predictions to your boss, **Classification Trees** are a good method because each step in the decision making process is easy to understand.\n",
        "\n",
        "Topic follows:\n",
        "\n",
        "- **[Importing the Data From a File](#download-the-data)**\n",
        "\n",
        "- **[Missing Data](#identify-and-deal-with-missing-data)**\n",
        "    - Identifying Missing Data\n",
        "    - Dealing with Missing Data\n",
        "    \n",
        "\n",
        "- **[Formatting the Data for Decision Trees](#format-the-data)**\n",
        "    - Split data into Dependent and Independent Variables\n",
        "    - One-Hot-Encoding\n",
        "    \n",
        "\n",
        "- **[Building a Preliminary Classification Tree](#build-tree)**\n",
        "\n",
        "- **[Using Cost Complexity Pruning](#prune-tree)**\n",
        "    - Visualize Alpha\n",
        "    - Cross Validation For Finding the Best Alpha\n",
        "\n",
        "\n",
        "- **[Building, Drawing, Interpreting and Evaluating the Final Classification Tree](#draw-tree)**\n"
      ]
    },
    {
      "cell_type": "markdown",
      "metadata": {
        "id": "O8--5bMs3GYD",
        "colab_type": "text"
      },
      "source": [
        "***"
      ]
    },
    {
      "cell_type": "markdown",
      "metadata": {
        "id": "ABcdXtJw3GYE",
        "colab_type": "text"
      },
      "source": [
        "# Task 1: Import the modules that will do all the work\n",
        "The very first thing we do is load in a bunch of python modules. Python, itself, just gives us a basic programming language. These modules give us extra functionality to import the data, clean it up and format it, and then build, evaluate and draw the classification tree. \n",
        "\n",
        "**NOTE:** You will need **Python 3** and have at least these versions for each of the following modules: \n",
        "- pandas >= 0.25.1\n",
        "- numpy >= 1.17.2\n",
        "- sklearn >= 0.22.1\n",
        " \n"
      ]
    },
    {
      "cell_type": "code",
      "metadata": {
        "id": "MGbGnD4s3GYF",
        "colab_type": "code",
        "colab": {}
      },
      "source": [
        "import pandas as pd # load and manipulate data and for One-Hot Encoding\n",
        "import numpy as np # calculate the mean and standard deviation\n",
        "import matplotlib.pyplot as plt # drawing graphs\n",
        "from sklearn.tree import DecisionTreeClassifier # a classification tree\n",
        "from sklearn.tree import plot_tree # draw a classification tree\n",
        "from sklearn.model_selection import train_test_split # split  data into training and testing sets\n",
        "from sklearn.model_selection import cross_val_score # cross validation\n",
        "from sklearn.metrics import confusion_matrix # creates a confusion matrix\n",
        "from sklearn.metrics import plot_confusion_matrix # draws a confusion matrix"
      ],
      "execution_count": 0,
      "outputs": []
    },
    {
      "cell_type": "markdown",
      "metadata": {
        "id": "zx1SeaZf3GYK",
        "colab_type": "text"
      },
      "source": [
        "----"
      ]
    },
    {
      "cell_type": "markdown",
      "metadata": {
        "id": "t7OQXxkc3GYK",
        "colab_type": "text"
      },
      "source": [
        "<a id=\"download-the-data\"></a>\n",
        "# Task 2: Import the data\n",
        "Now we load in a dataset from the **[UCI Machine Learning Repository](https://archive.ics.uci.edu/ml/index.php)**.\n",
        "Specifically, we are going to use the **[Heart Disease Dataset](https://archive.ics.uci.edu/ml/datasets/Heart+Disease)**. This dataset will allow us to predict if someone has heart disease based on their sex, age, blood pressure and a variety of other metrics.\n",
        "\n",
        "**NOTE:** When **pandas** (**pd**) reads in data, it returns a **data frame**, which is a lot like a spreadsheet. The data are organized in rows and columns and each row can contain a mixture of text and numbers. The standard variable name for a **data frame** is the initials **df**, and that is what we will use here:"
      ]
    },
    {
      "cell_type": "code",
      "metadata": {
        "id": "glT_JXul3GYL",
        "colab_type": "code",
        "colab": {}
      },
      "source": [
        "df = pd.read_csv('/processed.cleveland.data', header = None)"
      ],
      "execution_count": 0,
      "outputs": []
    },
    {
      "cell_type": "markdown",
      "metadata": {
        "id": "TdM8mung3GYO",
        "colab_type": "text"
      },
      "source": [
        "Now that we have loaded the data into a **data frame** called **df**, let's look at the first five rows using the `head()` function:"
      ]
    },
    {
      "cell_type": "code",
      "metadata": {
        "id": "b6mjEKGP3GYO",
        "colab_type": "code",
        "outputId": "a3f939fe-aacb-4831-e44b-f8ab7e8ed16c",
        "colab": {
          "base_uri": "https://localhost:8080/",
          "height": 195
        }
      },
      "source": [
        "df.head()"
      ],
      "execution_count": 0,
      "outputs": [
        {
          "output_type": "execute_result",
          "data": {
            "text/html": [
              "<div>\n",
              "<style scoped>\n",
              "    .dataframe tbody tr th:only-of-type {\n",
              "        vertical-align: middle;\n",
              "    }\n",
              "\n",
              "    .dataframe tbody tr th {\n",
              "        vertical-align: top;\n",
              "    }\n",
              "\n",
              "    .dataframe thead th {\n",
              "        text-align: right;\n",
              "    }\n",
              "</style>\n",
              "<table border=\"1\" class=\"dataframe\">\n",
              "  <thead>\n",
              "    <tr style=\"text-align: right;\">\n",
              "      <th></th>\n",
              "      <th>0</th>\n",
              "      <th>1</th>\n",
              "      <th>2</th>\n",
              "      <th>3</th>\n",
              "      <th>4</th>\n",
              "      <th>5</th>\n",
              "      <th>6</th>\n",
              "      <th>7</th>\n",
              "      <th>8</th>\n",
              "      <th>9</th>\n",
              "      <th>10</th>\n",
              "      <th>11</th>\n",
              "      <th>12</th>\n",
              "      <th>13</th>\n",
              "    </tr>\n",
              "  </thead>\n",
              "  <tbody>\n",
              "    <tr>\n",
              "      <th>0</th>\n",
              "      <td>63.0</td>\n",
              "      <td>1.0</td>\n",
              "      <td>1.0</td>\n",
              "      <td>145.0</td>\n",
              "      <td>233.0</td>\n",
              "      <td>1.0</td>\n",
              "      <td>2.0</td>\n",
              "      <td>150.0</td>\n",
              "      <td>0.0</td>\n",
              "      <td>2.3</td>\n",
              "      <td>3.0</td>\n",
              "      <td>0.0</td>\n",
              "      <td>6.0</td>\n",
              "      <td>0</td>\n",
              "    </tr>\n",
              "    <tr>\n",
              "      <th>1</th>\n",
              "      <td>67.0</td>\n",
              "      <td>1.0</td>\n",
              "      <td>4.0</td>\n",
              "      <td>160.0</td>\n",
              "      <td>286.0</td>\n",
              "      <td>0.0</td>\n",
              "      <td>2.0</td>\n",
              "      <td>108.0</td>\n",
              "      <td>1.0</td>\n",
              "      <td>1.5</td>\n",
              "      <td>2.0</td>\n",
              "      <td>3.0</td>\n",
              "      <td>3.0</td>\n",
              "      <td>2</td>\n",
              "    </tr>\n",
              "    <tr>\n",
              "      <th>2</th>\n",
              "      <td>67.0</td>\n",
              "      <td>1.0</td>\n",
              "      <td>4.0</td>\n",
              "      <td>120.0</td>\n",
              "      <td>229.0</td>\n",
              "      <td>0.0</td>\n",
              "      <td>2.0</td>\n",
              "      <td>129.0</td>\n",
              "      <td>1.0</td>\n",
              "      <td>2.6</td>\n",
              "      <td>2.0</td>\n",
              "      <td>2.0</td>\n",
              "      <td>7.0</td>\n",
              "      <td>1</td>\n",
              "    </tr>\n",
              "    <tr>\n",
              "      <th>3</th>\n",
              "      <td>37.0</td>\n",
              "      <td>1.0</td>\n",
              "      <td>3.0</td>\n",
              "      <td>130.0</td>\n",
              "      <td>250.0</td>\n",
              "      <td>0.0</td>\n",
              "      <td>0.0</td>\n",
              "      <td>187.0</td>\n",
              "      <td>0.0</td>\n",
              "      <td>3.5</td>\n",
              "      <td>3.0</td>\n",
              "      <td>0.0</td>\n",
              "      <td>3.0</td>\n",
              "      <td>0</td>\n",
              "    </tr>\n",
              "    <tr>\n",
              "      <th>4</th>\n",
              "      <td>41.0</td>\n",
              "      <td>0.0</td>\n",
              "      <td>2.0</td>\n",
              "      <td>130.0</td>\n",
              "      <td>204.0</td>\n",
              "      <td>0.0</td>\n",
              "      <td>2.0</td>\n",
              "      <td>172.0</td>\n",
              "      <td>0.0</td>\n",
              "      <td>1.4</td>\n",
              "      <td>1.0</td>\n",
              "      <td>0.0</td>\n",
              "      <td>3.0</td>\n",
              "      <td>0</td>\n",
              "    </tr>\n",
              "  </tbody>\n",
              "</table>\n",
              "</div>"
            ],
            "text/plain": [
              "     0    1    2      3      4    5    6      7    8    9    10   11   12  13\n",
              "0  63.0  1.0  1.0  145.0  233.0  1.0  2.0  150.0  0.0  2.3  3.0  0.0  6.0   0\n",
              "1  67.0  1.0  4.0  160.0  286.0  0.0  2.0  108.0  1.0  1.5  2.0  3.0  3.0   2\n",
              "2  67.0  1.0  4.0  120.0  229.0  0.0  2.0  129.0  1.0  2.6  2.0  2.0  7.0   1\n",
              "3  37.0  1.0  3.0  130.0  250.0  0.0  0.0  187.0  0.0  3.5  3.0  0.0  3.0   0\n",
              "4  41.0  0.0  2.0  130.0  204.0  0.0  2.0  172.0  0.0  1.4  1.0  0.0  3.0   0"
            ]
          },
          "metadata": {
            "tags": []
          },
          "execution_count": 41
        }
      ]
    },
    {
      "cell_type": "markdown",
      "metadata": {
        "id": "Bm8Ij7hg3GYS",
        "colab_type": "text"
      },
      "source": [
        "We see that instead of nice column names, we just have column numbers.  Since nice column names would make it easier to know how to format the data, let's replace the column numbers with the following column names:\n",
        "- **age**,\n",
        "- **sex**,\n",
        "- **cp**, chest pain\n",
        "- **restbp**, resting blood pressure (in mm Hg)\n",
        "- **chol**, serum cholesterol in mg/dl\n",
        "- **fbs**, fasting blood sugar\n",
        "- **restecg**, resting electrocardiographic results\n",
        "- **thalach**,  maximum heart rate achieved\n",
        "- **exang**, exercise induced angina\n",
        "- **oldpeak**, ST depression induced by exercise relative to rest\n",
        "- **slope**, the slope of the peak exercise ST segment.\n",
        "- **ca**, number of major vessels (0-3) colored by fluoroscopy\n",
        "- **thal**, this is short of thalium heart scan.\n",
        "- **hd**, diagnosis of heart disease, the predicted attribute"
      ]
    },
    {
      "cell_type": "code",
      "metadata": {
        "id": "hDrXjl2z3GYS",
        "colab_type": "code",
        "outputId": "ac343d90-5264-4cb8-f583-f1def9ef57a7",
        "colab": {
          "base_uri": "https://localhost:8080/",
          "height": 195
        }
      },
      "source": [
        "df.columns = ['age', \n",
        "              'sex', \n",
        "              'cp', \n",
        "              'restbp', \n",
        "              'chol', \n",
        "              'fbs', \n",
        "              'restecg', \n",
        "              'thalach', \n",
        "              'exang', \n",
        "              'oldpeak', \n",
        "              'slope', \n",
        "              'ca', \n",
        "              'thal', \n",
        "              'hd']\n",
        "df.head()"
      ],
      "execution_count": 0,
      "outputs": [
        {
          "output_type": "execute_result",
          "data": {
            "text/html": [
              "<div>\n",
              "<style scoped>\n",
              "    .dataframe tbody tr th:only-of-type {\n",
              "        vertical-align: middle;\n",
              "    }\n",
              "\n",
              "    .dataframe tbody tr th {\n",
              "        vertical-align: top;\n",
              "    }\n",
              "\n",
              "    .dataframe thead th {\n",
              "        text-align: right;\n",
              "    }\n",
              "</style>\n",
              "<table border=\"1\" class=\"dataframe\">\n",
              "  <thead>\n",
              "    <tr style=\"text-align: right;\">\n",
              "      <th></th>\n",
              "      <th>age</th>\n",
              "      <th>sex</th>\n",
              "      <th>cp</th>\n",
              "      <th>restbp</th>\n",
              "      <th>chol</th>\n",
              "      <th>fbs</th>\n",
              "      <th>restecg</th>\n",
              "      <th>thalach</th>\n",
              "      <th>exang</th>\n",
              "      <th>oldpeak</th>\n",
              "      <th>slope</th>\n",
              "      <th>ca</th>\n",
              "      <th>thal</th>\n",
              "      <th>hd</th>\n",
              "    </tr>\n",
              "  </thead>\n",
              "  <tbody>\n",
              "    <tr>\n",
              "      <th>0</th>\n",
              "      <td>63.0</td>\n",
              "      <td>1.0</td>\n",
              "      <td>1.0</td>\n",
              "      <td>145.0</td>\n",
              "      <td>233.0</td>\n",
              "      <td>1.0</td>\n",
              "      <td>2.0</td>\n",
              "      <td>150.0</td>\n",
              "      <td>0.0</td>\n",
              "      <td>2.3</td>\n",
              "      <td>3.0</td>\n",
              "      <td>0.0</td>\n",
              "      <td>6.0</td>\n",
              "      <td>0</td>\n",
              "    </tr>\n",
              "    <tr>\n",
              "      <th>1</th>\n",
              "      <td>67.0</td>\n",
              "      <td>1.0</td>\n",
              "      <td>4.0</td>\n",
              "      <td>160.0</td>\n",
              "      <td>286.0</td>\n",
              "      <td>0.0</td>\n",
              "      <td>2.0</td>\n",
              "      <td>108.0</td>\n",
              "      <td>1.0</td>\n",
              "      <td>1.5</td>\n",
              "      <td>2.0</td>\n",
              "      <td>3.0</td>\n",
              "      <td>3.0</td>\n",
              "      <td>2</td>\n",
              "    </tr>\n",
              "    <tr>\n",
              "      <th>2</th>\n",
              "      <td>67.0</td>\n",
              "      <td>1.0</td>\n",
              "      <td>4.0</td>\n",
              "      <td>120.0</td>\n",
              "      <td>229.0</td>\n",
              "      <td>0.0</td>\n",
              "      <td>2.0</td>\n",
              "      <td>129.0</td>\n",
              "      <td>1.0</td>\n",
              "      <td>2.6</td>\n",
              "      <td>2.0</td>\n",
              "      <td>2.0</td>\n",
              "      <td>7.0</td>\n",
              "      <td>1</td>\n",
              "    </tr>\n",
              "    <tr>\n",
              "      <th>3</th>\n",
              "      <td>37.0</td>\n",
              "      <td>1.0</td>\n",
              "      <td>3.0</td>\n",
              "      <td>130.0</td>\n",
              "      <td>250.0</td>\n",
              "      <td>0.0</td>\n",
              "      <td>0.0</td>\n",
              "      <td>187.0</td>\n",
              "      <td>0.0</td>\n",
              "      <td>3.5</td>\n",
              "      <td>3.0</td>\n",
              "      <td>0.0</td>\n",
              "      <td>3.0</td>\n",
              "      <td>0</td>\n",
              "    </tr>\n",
              "    <tr>\n",
              "      <th>4</th>\n",
              "      <td>41.0</td>\n",
              "      <td>0.0</td>\n",
              "      <td>2.0</td>\n",
              "      <td>130.0</td>\n",
              "      <td>204.0</td>\n",
              "      <td>0.0</td>\n",
              "      <td>2.0</td>\n",
              "      <td>172.0</td>\n",
              "      <td>0.0</td>\n",
              "      <td>1.4</td>\n",
              "      <td>1.0</td>\n",
              "      <td>0.0</td>\n",
              "      <td>3.0</td>\n",
              "      <td>0</td>\n",
              "    </tr>\n",
              "  </tbody>\n",
              "</table>\n",
              "</div>"
            ],
            "text/plain": [
              "    age  sex   cp  restbp   chol  fbs  ...  exang  oldpeak  slope   ca  thal hd\n",
              "0  63.0  1.0  1.0   145.0  233.0  1.0  ...    0.0      2.3    3.0  0.0   6.0  0\n",
              "1  67.0  1.0  4.0   160.0  286.0  0.0  ...    1.0      1.5    2.0  3.0   3.0  2\n",
              "2  67.0  1.0  4.0   120.0  229.0  0.0  ...    1.0      2.6    2.0  2.0   7.0  1\n",
              "3  37.0  1.0  3.0   130.0  250.0  0.0  ...    0.0      3.5    3.0  0.0   3.0  0\n",
              "4  41.0  0.0  2.0   130.0  204.0  0.0  ...    0.0      1.4    1.0  0.0   3.0  0\n",
              "\n",
              "[5 rows x 14 columns]"
            ]
          },
          "metadata": {
            "tags": []
          },
          "execution_count": 42
        }
      ]
    },
    {
      "cell_type": "markdown",
      "metadata": {
        "id": "EHLILBV_3GYV",
        "colab_type": "text"
      },
      "source": [
        " We have replaced the column numbers with nice, easy to remember names. Now that we have the data in a **data frame** called **df**, we are ready to identify and deal with **Missing Data**.\n",
        "\n",
        "----"
      ]
    },
    {
      "cell_type": "markdown",
      "metadata": {
        "id": "sKCxQAlX3GYW",
        "colab_type": "text"
      },
      "source": [
        "<a id=\"identify-and-deal-with-missing-data\"></a>\n",
        "# Task 3: Missing Data Part 1: Identifying Missing Data\n",
        "Unfortunately, the biggest part of any data analysis project is making sure that the data is correctly formatted and fixing it when it is not. The first part of this process is dealing with **Missing Data**.\n",
        "\n",
        "**Missing Data** is simply a blank space or surrogate value that indicates that we failed to collect data for one of the features. For example, if we forgot to ask someone's age, or forgot to write it down, then we would have a blank space in the dataset for that person's **age**.\n",
        "\n",
        "There are two main ways to deal with missing data:\n",
        "1. We can remove the rows that contain missing data from the dataset. This is relatively easy to do, but it wastes all of the other values that we collected. How a big of a waste this is depends on how important this missing value is for classification. For example, if we are missing a value for **age**, and **age** is not useful for classifying if people have heart disease or not, then it would be a shame to throw out all of someone's data just because we do not have their **age**.\n",
        "2. We can **impute** the values that are missing. In this context **impute** is just a fancy way of saying \"we can make an educated guess about about what the value should be\". Continuing our example where we are missing a value for **age**, instead of throwing out the entire row of data, we can fill the missing value with the average age or the median age, or use some other, more sophisticated approach, to guess at an appropriate value.\n",
        "\n",
        "In this section, we'll focus on identifying missing values in the dataset and dealing with them. \n",
        "\n",
        "First, let's see what sort of data is in each column."
      ]
    },
    {
      "cell_type": "code",
      "metadata": {
        "id": "QYaZutzf3GYW",
        "colab_type": "code",
        "outputId": "a2bde4c4-777b-4b5e-c0e1-96f4ab56af66",
        "colab": {
          "base_uri": "https://localhost:8080/",
          "height": 269
        }
      },
      "source": [
        "df.dtypes"
      ],
      "execution_count": 0,
      "outputs": [
        {
          "output_type": "execute_result",
          "data": {
            "text/plain": [
              "age        float64\n",
              "sex        float64\n",
              "cp         float64\n",
              "restbp     float64\n",
              "chol       float64\n",
              "fbs        float64\n",
              "restecg    float64\n",
              "thalach    float64\n",
              "exang      float64\n",
              "oldpeak    float64\n",
              "slope      float64\n",
              "ca          object\n",
              "thal        object\n",
              "hd           int64\n",
              "dtype: object"
            ]
          },
          "metadata": {
            "tags": []
          },
          "execution_count": 43
        }
      ]
    },
    {
      "cell_type": "markdown",
      "metadata": {
        "id": "ihnMOIvt3GYZ",
        "colab_type": "text"
      },
      "source": [
        "We see that that they are almost all `float64`, however, two columns, **ca** and **thal**, have the `object` type and one column, **hd** has `int64`.\n",
        "\n",
        "The fact that the **ca** and **thal** columns have `object` data types suggests there is something funny going on in them. `object` datatypes are used when there are mixtures of things, like a mixture of numbers and letters. In theory, both **ca** and **thal** should just have a few values representing different categories, so let's investigate what's going on by printing out their unique values. We'll start with **ca**:"
      ]
    },
    {
      "cell_type": "code",
      "metadata": {
        "id": "1scCnX_Z3GYa",
        "colab_type": "code",
        "outputId": "5c6943db-5b23-4d99-d4a0-5c8d1b3a9951",
        "colab": {
          "base_uri": "https://localhost:8080/",
          "height": 34
        }
      },
      "source": [
        "df['ca'].unique()"
      ],
      "execution_count": 0,
      "outputs": [
        {
          "output_type": "execute_result",
          "data": {
            "text/plain": [
              "array(['0.0', '3.0', '2.0', '1.0', '?'], dtype=object)"
            ]
          },
          "metadata": {
            "tags": []
          },
          "execution_count": 44
        }
      ]
    },
    {
      "cell_type": "markdown",
      "metadata": {
        "id": "ijAlhnB13GYc",
        "colab_type": "text"
      },
      "source": [
        "We see that **ca** contains numbers (0.0, 3.0, 2.0 and 1.0) and questions marks (?). The numbers represent the number of blood vessels that we lit up by fluoroscopy and the question marks represent missing data.\n",
        "\n",
        "Now let's look at the unique values in **thal**."
      ]
    },
    {
      "cell_type": "code",
      "metadata": {
        "id": "mUPJK5oj3GYc",
        "colab_type": "code",
        "outputId": "3ab62ffe-6d51-45f0-faa9-5033a4e75884",
        "colab": {
          "base_uri": "https://localhost:8080/",
          "height": 34
        }
      },
      "source": [
        "df['thal'].unique()"
      ],
      "execution_count": 0,
      "outputs": [
        {
          "output_type": "execute_result",
          "data": {
            "text/plain": [
              "array(['6.0', '3.0', '7.0', '?'], dtype=object)"
            ]
          },
          "metadata": {
            "tags": []
          },
          "execution_count": 45
        }
      ]
    },
    {
      "cell_type": "markdown",
      "metadata": {
        "id": "ryWcT4mb3GYf",
        "colab_type": "text"
      },
      "source": [
        "Again, **thal** also contains a mixture of numbers, representing the different diagnoses from the thalium heart scan, and question marks, which represent missing values.\n",
        "\n",
        "----\n",
        "\n",
        "# Task 4: Missing Data Part 2: Dealing With Missing Data\n",
        "\n",
        "Since scikit-learn's classification trees do not support datasets with missing values, we need to figure out what to do these question marks. We can either delete these patients from the training dataset, or impute values for the missing data. First let's see how many rows contain missing values."
      ]
    },
    {
      "cell_type": "code",
      "metadata": {
        "id": "xHWxIvHn3GYf",
        "colab_type": "code",
        "outputId": "f71deb26-f835-4f90-a162-8279f4887c8f",
        "colab": {
          "base_uri": "https://localhost:8080/",
          "height": 34
        }
      },
      "source": [
        "len(df[(df['ca']=='?')  \\\n",
        "       |  \\\n",
        "       (df['thal']=='?')])"
      ],
      "execution_count": 0,
      "outputs": [
        {
          "output_type": "execute_result",
          "data": {
            "text/plain": [
              "6"
            ]
          },
          "metadata": {
            "tags": []
          },
          "execution_count": 46
        }
      ]
    },
    {
      "cell_type": "markdown",
      "metadata": {
        "id": "eiCN5fc43GYh",
        "colab_type": "text"
      },
      "source": [
        "Since only 6 rows have missing values, let's look at them."
      ]
    },
    {
      "cell_type": "code",
      "metadata": {
        "id": "0HdTGCAe3GYi",
        "colab_type": "code",
        "outputId": "1e9f5497-7bbc-4de4-e4a2-5fd309a1ff20",
        "colab": {
          "base_uri": "https://localhost:8080/",
          "height": 225
        }
      },
      "source": [
        "df[(df['ca']=='?')  \\\n",
        "       |  \\\n",
        "       (df['thal']=='?')]"
      ],
      "execution_count": 0,
      "outputs": [
        {
          "output_type": "execute_result",
          "data": {
            "text/html": [
              "<div>\n",
              "<style scoped>\n",
              "    .dataframe tbody tr th:only-of-type {\n",
              "        vertical-align: middle;\n",
              "    }\n",
              "\n",
              "    .dataframe tbody tr th {\n",
              "        vertical-align: top;\n",
              "    }\n",
              "\n",
              "    .dataframe thead th {\n",
              "        text-align: right;\n",
              "    }\n",
              "</style>\n",
              "<table border=\"1\" class=\"dataframe\">\n",
              "  <thead>\n",
              "    <tr style=\"text-align: right;\">\n",
              "      <th></th>\n",
              "      <th>age</th>\n",
              "      <th>sex</th>\n",
              "      <th>cp</th>\n",
              "      <th>restbp</th>\n",
              "      <th>chol</th>\n",
              "      <th>fbs</th>\n",
              "      <th>restecg</th>\n",
              "      <th>thalach</th>\n",
              "      <th>exang</th>\n",
              "      <th>oldpeak</th>\n",
              "      <th>slope</th>\n",
              "      <th>ca</th>\n",
              "      <th>thal</th>\n",
              "      <th>hd</th>\n",
              "    </tr>\n",
              "  </thead>\n",
              "  <tbody>\n",
              "    <tr>\n",
              "      <th>87</th>\n",
              "      <td>53.0</td>\n",
              "      <td>0.0</td>\n",
              "      <td>3.0</td>\n",
              "      <td>128.0</td>\n",
              "      <td>216.0</td>\n",
              "      <td>0.0</td>\n",
              "      <td>2.0</td>\n",
              "      <td>115.0</td>\n",
              "      <td>0.0</td>\n",
              "      <td>0.0</td>\n",
              "      <td>1.0</td>\n",
              "      <td>0.0</td>\n",
              "      <td>?</td>\n",
              "      <td>0</td>\n",
              "    </tr>\n",
              "    <tr>\n",
              "      <th>166</th>\n",
              "      <td>52.0</td>\n",
              "      <td>1.0</td>\n",
              "      <td>3.0</td>\n",
              "      <td>138.0</td>\n",
              "      <td>223.0</td>\n",
              "      <td>0.0</td>\n",
              "      <td>0.0</td>\n",
              "      <td>169.0</td>\n",
              "      <td>0.0</td>\n",
              "      <td>0.0</td>\n",
              "      <td>1.0</td>\n",
              "      <td>?</td>\n",
              "      <td>3.0</td>\n",
              "      <td>0</td>\n",
              "    </tr>\n",
              "    <tr>\n",
              "      <th>192</th>\n",
              "      <td>43.0</td>\n",
              "      <td>1.0</td>\n",
              "      <td>4.0</td>\n",
              "      <td>132.0</td>\n",
              "      <td>247.0</td>\n",
              "      <td>1.0</td>\n",
              "      <td>2.0</td>\n",
              "      <td>143.0</td>\n",
              "      <td>1.0</td>\n",
              "      <td>0.1</td>\n",
              "      <td>2.0</td>\n",
              "      <td>?</td>\n",
              "      <td>7.0</td>\n",
              "      <td>1</td>\n",
              "    </tr>\n",
              "    <tr>\n",
              "      <th>266</th>\n",
              "      <td>52.0</td>\n",
              "      <td>1.0</td>\n",
              "      <td>4.0</td>\n",
              "      <td>128.0</td>\n",
              "      <td>204.0</td>\n",
              "      <td>1.0</td>\n",
              "      <td>0.0</td>\n",
              "      <td>156.0</td>\n",
              "      <td>1.0</td>\n",
              "      <td>1.0</td>\n",
              "      <td>2.0</td>\n",
              "      <td>0.0</td>\n",
              "      <td>?</td>\n",
              "      <td>2</td>\n",
              "    </tr>\n",
              "    <tr>\n",
              "      <th>287</th>\n",
              "      <td>58.0</td>\n",
              "      <td>1.0</td>\n",
              "      <td>2.0</td>\n",
              "      <td>125.0</td>\n",
              "      <td>220.0</td>\n",
              "      <td>0.0</td>\n",
              "      <td>0.0</td>\n",
              "      <td>144.0</td>\n",
              "      <td>0.0</td>\n",
              "      <td>0.4</td>\n",
              "      <td>2.0</td>\n",
              "      <td>?</td>\n",
              "      <td>7.0</td>\n",
              "      <td>0</td>\n",
              "    </tr>\n",
              "    <tr>\n",
              "      <th>302</th>\n",
              "      <td>38.0</td>\n",
              "      <td>1.0</td>\n",
              "      <td>3.0</td>\n",
              "      <td>138.0</td>\n",
              "      <td>175.0</td>\n",
              "      <td>0.0</td>\n",
              "      <td>0.0</td>\n",
              "      <td>173.0</td>\n",
              "      <td>0.0</td>\n",
              "      <td>0.0</td>\n",
              "      <td>1.0</td>\n",
              "      <td>?</td>\n",
              "      <td>3.0</td>\n",
              "      <td>0</td>\n",
              "    </tr>\n",
              "  </tbody>\n",
              "</table>\n",
              "</div>"
            ],
            "text/plain": [
              "      age  sex   cp  restbp   chol  fbs  ...  exang  oldpeak  slope   ca  thal hd\n",
              "87   53.0  0.0  3.0   128.0  216.0  0.0  ...    0.0      0.0    1.0  0.0     ?  0\n",
              "166  52.0  1.0  3.0   138.0  223.0  0.0  ...    0.0      0.0    1.0    ?   3.0  0\n",
              "192  43.0  1.0  4.0   132.0  247.0  1.0  ...    1.0      0.1    2.0    ?   7.0  1\n",
              "266  52.0  1.0  4.0   128.0  204.0  1.0  ...    1.0      1.0    2.0  0.0     ?  2\n",
              "287  58.0  1.0  2.0   125.0  220.0  0.0  ...    0.0      0.4    2.0    ?   7.0  0\n",
              "302  38.0  1.0  3.0   138.0  175.0  0.0  ...    0.0      0.0    1.0    ?   3.0  0\n",
              "\n",
              "[6 rows x 14 columns]"
            ]
          },
          "metadata": {
            "tags": []
          },
          "execution_count": 47
        }
      ]
    },
    {
      "cell_type": "markdown",
      "metadata": {
        "id": "THDgWfg63GYm",
        "colab_type": "text"
      },
      "source": [
        "Now let's count the number of rows in the full dataset."
      ]
    },
    {
      "cell_type": "code",
      "metadata": {
        "id": "6Spu73Ic3GYm",
        "colab_type": "code",
        "outputId": "854423e4-3f81-4630-9b80-093ec6fb0712",
        "colab": {
          "base_uri": "https://localhost:8080/",
          "height": 34
        }
      },
      "source": [
        "len(df)"
      ],
      "execution_count": 0,
      "outputs": [
        {
          "output_type": "execute_result",
          "data": {
            "text/plain": [
              "303"
            ]
          },
          "metadata": {
            "tags": []
          },
          "execution_count": 48
        }
      ]
    },
    {
      "cell_type": "markdown",
      "metadata": {
        "id": "hR13epTV3GYp",
        "colab_type": "text"
      },
      "source": [
        "So 6 of the **303** rows, or **2%**, contain missing values. Since **303 - 6 = 297**, and **297** is plenty of data to build a classification tree, we will remove the rows with missing values, rather than try to impute their values. We do this by selecting all of the rows that do not contain question marks in either the **ca** or **thal** columns:"
      ]
    },
    {
      "cell_type": "code",
      "metadata": {
        "id": "hEjFuSsU3GYp",
        "colab_type": "code",
        "colab": {}
      },
      "source": [
        "df_no_missing = df[(df['ca']!='?')  \\\n",
        "       &  \\\n",
        "       (df['thal']!='?')]"
      ],
      "execution_count": 0,
      "outputs": []
    },
    {
      "cell_type": "markdown",
      "metadata": {
        "id": "tQ4OAPyJ3GYr",
        "colab_type": "text"
      },
      "source": [
        "Since `df_no_missing` has **6** fewer rows than the original `df`, it should have **297** rows."
      ]
    },
    {
      "cell_type": "code",
      "metadata": {
        "id": "ajVkkYjI3GYs",
        "colab_type": "code",
        "outputId": "e6cca7e7-7751-4025-e648-f23bb47d0b59",
        "colab": {
          "base_uri": "https://localhost:8080/",
          "height": 34
        }
      },
      "source": [
        "len(df_no_missing)"
      ],
      "execution_count": 0,
      "outputs": [
        {
          "output_type": "execute_result",
          "data": {
            "text/plain": [
              "297"
            ]
          },
          "metadata": {
            "tags": []
          },
          "execution_count": 50
        }
      ]
    },
    {
      "cell_type": "markdown",
      "metadata": {
        "id": "sUyizIi13GYu",
        "colab_type": "text"
      },
      "source": [
        "The math works out. However, we can also make sure **ca** no longer contains question marks by printing its unique values:"
      ]
    },
    {
      "cell_type": "code",
      "metadata": {
        "id": "3CjJTtjr3GYu",
        "colab_type": "code",
        "outputId": "5932a433-8f03-4c1a-cb2d-946cd81019f4",
        "colab": {
          "base_uri": "https://localhost:8080/",
          "height": 34
        }
      },
      "source": [
        "df_no_missing['ca'].unique()"
      ],
      "execution_count": 0,
      "outputs": [
        {
          "output_type": "execute_result",
          "data": {
            "text/plain": [
              "array(['0.0', '3.0', '2.0', '1.0'], dtype=object)"
            ]
          },
          "metadata": {
            "tags": []
          },
          "execution_count": 51
        }
      ]
    },
    {
      "cell_type": "markdown",
      "metadata": {
        "id": "H5V8W3yI3GYw",
        "colab_type": "text"
      },
      "source": [
        "And we can also do the same thing for **thal**:"
      ]
    },
    {
      "cell_type": "code",
      "metadata": {
        "id": "0cJejJef3GYx",
        "colab_type": "code",
        "outputId": "118200ad-0891-4d84-d1a6-74746393398b",
        "colab": {
          "base_uri": "https://localhost:8080/",
          "height": 34
        }
      },
      "source": [
        "df_no_missing['thal'].unique()"
      ],
      "execution_count": 0,
      "outputs": [
        {
          "output_type": "execute_result",
          "data": {
            "text/plain": [
              "array(['6.0', '3.0', '7.0'], dtype=object)"
            ]
          },
          "metadata": {
            "tags": []
          },
          "execution_count": 52
        }
      ]
    },
    {
      "cell_type": "markdown",
      "metadata": {
        "id": "7R643BNW3GYy",
        "colab_type": "text"
      },
      "source": [
        "! We have verified that `df_no_missing` does not contain any missing values. **NOTE:** **ca** and **thal** still have the `object` data type. That's OK. Now we are ready to format the data for making a **Classification Tree**.\n",
        "\n",
        "----"
      ]
    },
    {
      "cell_type": "markdown",
      "metadata": {
        "id": "g0jbZQp23GYz",
        "colab_type": "text"
      },
      "source": [
        "<a id=\"format-the-data\"></a>\n",
        "# Task 5: Format Data Part 1: Split the Data into Dependent and Independent Variables\n",
        "\n",
        "Now that we have taken care of the missing data, we are ready to start formatting the data for making a **Classification Tree**.\n",
        "\n",
        "The first step is to split the data into two parts:\n",
        "1. The columns of data that we will use to make classifications\n",
        "2. The column of data that we want to predict.\n",
        "\n",
        "We will use the conventional notation of `X` (capital **X**) to represent the columns of data that we will use to make classifications and `y` (lower case **y**) to represent the thing we want to predict. In this case, we want to predict **hd** (heart disease).\n",
        "\n",
        "The reason we deal with missing data before splitting it into **X** and **y** is that if we remove rows, splitting after ensures that each row in **X** correctly corresponds with the appropriate value in **y**.\n",
        "\n",
        "**NOTE:** In the code below we are using `copy()` to copy the data *by value*. By default, pandas uses copy *by reference*. Using `copy()` ensures that the original data `df_no_missing` is not modified when we modify `X` or `y`. In other words, if we make a mistake when we are formatting the columns for classification trees, we can just re-copy `df_no_missing`, rather than have to reload the original data and  remove the missing values etc."
      ]
    },
    {
      "cell_type": "code",
      "metadata": {
        "id": "lU4_pVrI3GYz",
        "colab_type": "code",
        "outputId": "269c0c3a-5c3d-43f8-9fea-c4b6b602b5cb",
        "colab": {
          "base_uri": "https://localhost:8080/",
          "height": 195
        }
      },
      "source": [
        "X = df_no_missing.drop(['hd'], axis=1).copy()\n",
        "X.head()"
      ],
      "execution_count": 0,
      "outputs": [
        {
          "output_type": "execute_result",
          "data": {
            "text/html": [
              "<div>\n",
              "<style scoped>\n",
              "    .dataframe tbody tr th:only-of-type {\n",
              "        vertical-align: middle;\n",
              "    }\n",
              "\n",
              "    .dataframe tbody tr th {\n",
              "        vertical-align: top;\n",
              "    }\n",
              "\n",
              "    .dataframe thead th {\n",
              "        text-align: right;\n",
              "    }\n",
              "</style>\n",
              "<table border=\"1\" class=\"dataframe\">\n",
              "  <thead>\n",
              "    <tr style=\"text-align: right;\">\n",
              "      <th></th>\n",
              "      <th>age</th>\n",
              "      <th>sex</th>\n",
              "      <th>cp</th>\n",
              "      <th>restbp</th>\n",
              "      <th>chol</th>\n",
              "      <th>fbs</th>\n",
              "      <th>restecg</th>\n",
              "      <th>thalach</th>\n",
              "      <th>exang</th>\n",
              "      <th>oldpeak</th>\n",
              "      <th>slope</th>\n",
              "      <th>ca</th>\n",
              "      <th>thal</th>\n",
              "    </tr>\n",
              "  </thead>\n",
              "  <tbody>\n",
              "    <tr>\n",
              "      <th>0</th>\n",
              "      <td>63.0</td>\n",
              "      <td>1.0</td>\n",
              "      <td>1.0</td>\n",
              "      <td>145.0</td>\n",
              "      <td>233.0</td>\n",
              "      <td>1.0</td>\n",
              "      <td>2.0</td>\n",
              "      <td>150.0</td>\n",
              "      <td>0.0</td>\n",
              "      <td>2.3</td>\n",
              "      <td>3.0</td>\n",
              "      <td>0.0</td>\n",
              "      <td>6.0</td>\n",
              "    </tr>\n",
              "    <tr>\n",
              "      <th>1</th>\n",
              "      <td>67.0</td>\n",
              "      <td>1.0</td>\n",
              "      <td>4.0</td>\n",
              "      <td>160.0</td>\n",
              "      <td>286.0</td>\n",
              "      <td>0.0</td>\n",
              "      <td>2.0</td>\n",
              "      <td>108.0</td>\n",
              "      <td>1.0</td>\n",
              "      <td>1.5</td>\n",
              "      <td>2.0</td>\n",
              "      <td>3.0</td>\n",
              "      <td>3.0</td>\n",
              "    </tr>\n",
              "    <tr>\n",
              "      <th>2</th>\n",
              "      <td>67.0</td>\n",
              "      <td>1.0</td>\n",
              "      <td>4.0</td>\n",
              "      <td>120.0</td>\n",
              "      <td>229.0</td>\n",
              "      <td>0.0</td>\n",
              "      <td>2.0</td>\n",
              "      <td>129.0</td>\n",
              "      <td>1.0</td>\n",
              "      <td>2.6</td>\n",
              "      <td>2.0</td>\n",
              "      <td>2.0</td>\n",
              "      <td>7.0</td>\n",
              "    </tr>\n",
              "    <tr>\n",
              "      <th>3</th>\n",
              "      <td>37.0</td>\n",
              "      <td>1.0</td>\n",
              "      <td>3.0</td>\n",
              "      <td>130.0</td>\n",
              "      <td>250.0</td>\n",
              "      <td>0.0</td>\n",
              "      <td>0.0</td>\n",
              "      <td>187.0</td>\n",
              "      <td>0.0</td>\n",
              "      <td>3.5</td>\n",
              "      <td>3.0</td>\n",
              "      <td>0.0</td>\n",
              "      <td>3.0</td>\n",
              "    </tr>\n",
              "    <tr>\n",
              "      <th>4</th>\n",
              "      <td>41.0</td>\n",
              "      <td>0.0</td>\n",
              "      <td>2.0</td>\n",
              "      <td>130.0</td>\n",
              "      <td>204.0</td>\n",
              "      <td>0.0</td>\n",
              "      <td>2.0</td>\n",
              "      <td>172.0</td>\n",
              "      <td>0.0</td>\n",
              "      <td>1.4</td>\n",
              "      <td>1.0</td>\n",
              "      <td>0.0</td>\n",
              "      <td>3.0</td>\n",
              "    </tr>\n",
              "  </tbody>\n",
              "</table>\n",
              "</div>"
            ],
            "text/plain": [
              "    age  sex   cp  restbp   chol  fbs  ...  thalach  exang  oldpeak  slope   ca thal\n",
              "0  63.0  1.0  1.0   145.0  233.0  1.0  ...    150.0    0.0      2.3    3.0  0.0  6.0\n",
              "1  67.0  1.0  4.0   160.0  286.0  0.0  ...    108.0    1.0      1.5    2.0  3.0  3.0\n",
              "2  67.0  1.0  4.0   120.0  229.0  0.0  ...    129.0    1.0      2.6    2.0  2.0  7.0\n",
              "3  37.0  1.0  3.0   130.0  250.0  0.0  ...    187.0    0.0      3.5    3.0  0.0  3.0\n",
              "4  41.0  0.0  2.0   130.0  204.0  0.0  ...    172.0    0.0      1.4    1.0  0.0  3.0\n",
              "\n",
              "[5 rows x 13 columns]"
            ]
          },
          "metadata": {
            "tags": []
          },
          "execution_count": 53
        }
      ]
    },
    {
      "cell_type": "code",
      "metadata": {
        "id": "wsA19Eqp3GY1",
        "colab_type": "code",
        "outputId": "352926fa-307e-46b6-d1a3-36dd9ade4f87",
        "colab": {
          "base_uri": "https://localhost:8080/",
          "height": 118
        }
      },
      "source": [
        "y = df_no_missing['hd'].copy()\n",
        "y.head()"
      ],
      "execution_count": 0,
      "outputs": [
        {
          "output_type": "execute_result",
          "data": {
            "text/plain": [
              "0    0\n",
              "1    2\n",
              "2    1\n",
              "3    0\n",
              "4    0\n",
              "Name: hd, dtype: int64"
            ]
          },
          "metadata": {
            "tags": []
          },
          "execution_count": 54
        }
      ]
    },
    {
      "cell_type": "markdown",
      "metadata": {
        "id": "3i7Vbxyh3GY5",
        "colab_type": "text"
      },
      "source": [
        "----"
      ]
    },
    {
      "cell_type": "markdown",
      "metadata": {
        "id": "1gnyjZ6-3GY6",
        "colab_type": "text"
      },
      "source": [
        "<a id=\"one-hot-encoding\"></a>\n",
        "# Task 6: Format the Data Part 2: One-Hot Encoding\n",
        "\n",
        "Now that we have split the data frame into two pieces, `X`, which contains the data we will use to make, or predict, classifications, and `y`, which contains the known classifications in our training dataset, we need to take a closer look at the variables in `X`. The list bellow tells us what each variable represents and the type of data (**float** or **categorical**) it should contain:\n",
        "\n",
        "- **age**, **Float**\n",
        "- **sex** - **Category**\n",
        "  - 0 = female\n",
        "  - 1 = male\n",
        "- **cp**, chest pain, **Category**\n",
        "  - 1 = typical angina,\n",
        "  - 2 = atypical angina,\n",
        "  - 3 = non-anginal pain,\n",
        "  - 4 = asymptomatic\n",
        "- **restbp**, resting blood pressure (in mm Hg), **Float**\n",
        "- **chol**, serum cholesterol in mg/dl, **Float**\n",
        "- **fbs**, fasting blood sugar, **Category**\n",
        "  - 0 = >=120 mg/dl\n",
        "  - 1 = <120 mg/dl\n",
        "- **restecg**, resting electrocardiographic results, **Category**\n",
        "  - 1 = normal\n",
        "  - 2 = having ST-T wave abnormality\n",
        "  - 3 = showing probable or definite left ventricular hypertrophy\n",
        "- **thalach**,  maximum heart rate achieved, **Float**\n",
        "- **exang**, exercise induced angina, **Category**\n",
        "  - 0 = no\n",
        "  - 1 = yes\n",
        "- **oldpeak**, ST depression induced by exercise relative to rest. **Float**\n",
        "- **slope**, the slope of the peak exercise ST segment, **Category**\n",
        "  - 1 = upsloping\n",
        "  - 2 = flat\n",
        "  - 3 = downsloping\n",
        "- **ca**, number of major vessels (0-3) colored by fluoroscopy, **Float**\n",
        "- **thal**, thalium heart scan, **Category**\n",
        "  - 3 = normal (no cold spots)\n",
        "  - 6 = fixed defect (cold spots during rest and exercise)\n",
        "  - 7 = reversible defect (when cold spots only appear during exercise)\n",
        "\n",
        "Now, just to review, let's look at the data types in `X` to remember how python is seeing the data right now."
      ]
    },
    {
      "cell_type": "code",
      "metadata": {
        "id": "kdyhDAsL3GY6",
        "colab_type": "code",
        "outputId": "7d249501-01d0-4add-dd7d-30a07c1fb4f5",
        "colab": {
          "base_uri": "https://localhost:8080/",
          "height": 252
        }
      },
      "source": [
        "X.dtypes"
      ],
      "execution_count": 0,
      "outputs": [
        {
          "output_type": "execute_result",
          "data": {
            "text/plain": [
              "age        float64\n",
              "sex        float64\n",
              "cp         float64\n",
              "restbp     float64\n",
              "chol       float64\n",
              "fbs        float64\n",
              "restecg    float64\n",
              "thalach    float64\n",
              "exang      float64\n",
              "oldpeak    float64\n",
              "slope      float64\n",
              "ca          object\n",
              "thal        object\n",
              "dtype: object"
            ]
          },
          "metadata": {
            "tags": []
          },
          "execution_count": 55
        }
      ]
    },
    {
      "cell_type": "markdown",
      "metadata": {
        "id": "7hIZr-Ym3GY8",
        "colab_type": "text"
      },
      "source": [
        "So, we see that **age**, **restbp**, **chol** and **thalach** are all `float64`, which is good, because we want them to be floating point numbers. All of the other columns, however, need to be inspected to make sure they only contain reasonable values, and some of them need to change. This is because, while **scikit learn Decision Trees** natively support continuous data, like resting blood preasure (**restbp**) and maximum heart rate (**thalach**), they do not natively support categorical data, like chest pain (**cp**), which contains 4 different categories. Thus, in order to use categorical data with **scikit learn Decision Trees**, we have to use a trick that converts a column of categorical data into multiple columns of binary values. This trick is called **One-Hot Encoding**.\n",
        "\n",
        "At this point you may be wondering, \"what's wrong with treating categorical data like continuous data?\" To answer that question, let's look at an example: For the **cp** (chest pain) column, we have 4 options:\n",
        "1. typical angina,\n",
        "2. atypical angina,\n",
        "3. non-anginal pain,\n",
        "4. asymptomatic\n",
        "\n",
        "If we treated these values, 1, 2, 3 and 4, like continuous data, then we would assume that 4, which means \"asymptomatic\", is more similar to 3, which means \"non-anginal pain\", than it is to 1 or 2, which are other types of chest pain. Thus, the decision tree would be more likely to cluster the patients with 4s and 3s together than the patients with 4s and 1s together. In contrast, if we treat these numbers like categorical data, then we treat each one a separate category that is no more or less similar to any of the other categories. Thus, the likelihood of clustering patients with 4s with 3s is the same as clustering 4s with 1s, and that approach is more reasonable.\n",
        "\n",
        "Now let's inspect and, if needed, convert the columns that contain categorical and integer data into the correct datatypes. We'll start with **cp** (chest pain) by inspecting all of its unique values:\n",
        "<!-- We'll start with the three colunms that should only contain 0s and 1s. **sex**. First, let's make sure it only contains `0` (for **female**) and `1` (for **male**). -->"
      ]
    },
    {
      "cell_type": "code",
      "metadata": {
        "id": "sARMAUcK3GY9",
        "colab_type": "code",
        "outputId": "ca019e18-2ad9-48a4-cfd9-706c5479ab46",
        "colab": {
          "base_uri": "https://localhost:8080/",
          "height": 34
        }
      },
      "source": [
        "df_no_missing['cp'].unique()"
      ],
      "execution_count": 0,
      "outputs": [
        {
          "output_type": "execute_result",
          "data": {
            "text/plain": [
              "array([1., 4., 3., 2.])"
            ]
          },
          "metadata": {
            "tags": []
          },
          "execution_count": 56
        }
      ]
    },
    {
      "cell_type": "markdown",
      "metadata": {
        "id": "AWE6tTUE3GY_",
        "colab_type": "text"
      },
      "source": [
        "So, the good news is that **cp** only contains the values it is supposed to contain, so we will convert it, using **One-Hot Encoding**, into a series of columns that only contains **0s** and **1s**."
      ]
    },
    {
      "cell_type": "markdown",
      "metadata": {
        "id": "xHG76FN53GZA",
        "colab_type": "text"
      },
      "source": [
        "<!-- Now we need to deal with **cp** (chest pain), **restecg** (resting electrocardiographic results), **slope** (the slope of the peak exercise ST segment) and **thal** (thalium heart scan).\n",
        " -->\n",
        "**NOTE:** There are many different ways to do **One-Hot Encoding** in Python. Two of the more popular methods are `ColumnTransformer()` (from **scikit-learn**) and `get_dummies()` (from **pandas**), and the both methods have pros and cons. `ColumnTransformer()` has a very cool feature where it creates a persistent function that can validate data that you get in the future. For example, if you build your **Decision Tree** using a categorical variable **favorite color** that has **red**, **blue** and **green** options, then `ColumnTransformer()` can remember those options and later on when your **Decision Tree** is being used in a production system, if someone says their favorite color is **orange**, then `ColumnTransformer()` can throw an error or handle the situation in some other nice way. The downside of `ColumnTransformer()` is that it turns your data into an array and looses all of the column names, making it harder to verify that your usage of `ColumnTransformer()` worked as you intended it to. In contrast, `get_dummies()` leaves your data in a dataframe and retains the column names, making it much easier to verify that it worked as intended. However, it does not have the persistent behavior that `ColumnTransformer()` has. So, for the sake of learning how **One-Hot Encoding** works, I prefer to use `get_dummies()`. However, once you are comfortable with **One-Hot Encoding**, I encourage you to investigate using `ColumnTransformer()`.\n",
        "\n",
        "First, before we commit to converting **cp** with **One-Hot Encoding**, let's just see what happens when we convert **cp** without saving the results. This will just make it easy to see how `get_dummies()` works."
      ]
    },
    {
      "cell_type": "code",
      "metadata": {
        "id": "wd8GZ0ou3GZA",
        "colab_type": "code",
        "outputId": "c2b525e8-01b8-4715-fa58-5b9ca739952a",
        "colab": {
          "base_uri": "https://localhost:8080/",
          "height": 195
        }
      },
      "source": [
        "pd.get_dummies(X, columns=['cp']).head()"
      ],
      "execution_count": 0,
      "outputs": [
        {
          "output_type": "execute_result",
          "data": {
            "text/html": [
              "<div>\n",
              "<style scoped>\n",
              "    .dataframe tbody tr th:only-of-type {\n",
              "        vertical-align: middle;\n",
              "    }\n",
              "\n",
              "    .dataframe tbody tr th {\n",
              "        vertical-align: top;\n",
              "    }\n",
              "\n",
              "    .dataframe thead th {\n",
              "        text-align: right;\n",
              "    }\n",
              "</style>\n",
              "<table border=\"1\" class=\"dataframe\">\n",
              "  <thead>\n",
              "    <tr style=\"text-align: right;\">\n",
              "      <th></th>\n",
              "      <th>age</th>\n",
              "      <th>sex</th>\n",
              "      <th>restbp</th>\n",
              "      <th>chol</th>\n",
              "      <th>fbs</th>\n",
              "      <th>restecg</th>\n",
              "      <th>thalach</th>\n",
              "      <th>exang</th>\n",
              "      <th>oldpeak</th>\n",
              "      <th>slope</th>\n",
              "      <th>ca</th>\n",
              "      <th>thal</th>\n",
              "      <th>cp_1.0</th>\n",
              "      <th>cp_2.0</th>\n",
              "      <th>cp_3.0</th>\n",
              "      <th>cp_4.0</th>\n",
              "    </tr>\n",
              "  </thead>\n",
              "  <tbody>\n",
              "    <tr>\n",
              "      <th>0</th>\n",
              "      <td>63.0</td>\n",
              "      <td>1.0</td>\n",
              "      <td>145.0</td>\n",
              "      <td>233.0</td>\n",
              "      <td>1.0</td>\n",
              "      <td>2.0</td>\n",
              "      <td>150.0</td>\n",
              "      <td>0.0</td>\n",
              "      <td>2.3</td>\n",
              "      <td>3.0</td>\n",
              "      <td>0.0</td>\n",
              "      <td>6.0</td>\n",
              "      <td>1</td>\n",
              "      <td>0</td>\n",
              "      <td>0</td>\n",
              "      <td>0</td>\n",
              "    </tr>\n",
              "    <tr>\n",
              "      <th>1</th>\n",
              "      <td>67.0</td>\n",
              "      <td>1.0</td>\n",
              "      <td>160.0</td>\n",
              "      <td>286.0</td>\n",
              "      <td>0.0</td>\n",
              "      <td>2.0</td>\n",
              "      <td>108.0</td>\n",
              "      <td>1.0</td>\n",
              "      <td>1.5</td>\n",
              "      <td>2.0</td>\n",
              "      <td>3.0</td>\n",
              "      <td>3.0</td>\n",
              "      <td>0</td>\n",
              "      <td>0</td>\n",
              "      <td>0</td>\n",
              "      <td>1</td>\n",
              "    </tr>\n",
              "    <tr>\n",
              "      <th>2</th>\n",
              "      <td>67.0</td>\n",
              "      <td>1.0</td>\n",
              "      <td>120.0</td>\n",
              "      <td>229.0</td>\n",
              "      <td>0.0</td>\n",
              "      <td>2.0</td>\n",
              "      <td>129.0</td>\n",
              "      <td>1.0</td>\n",
              "      <td>2.6</td>\n",
              "      <td>2.0</td>\n",
              "      <td>2.0</td>\n",
              "      <td>7.0</td>\n",
              "      <td>0</td>\n",
              "      <td>0</td>\n",
              "      <td>0</td>\n",
              "      <td>1</td>\n",
              "    </tr>\n",
              "    <tr>\n",
              "      <th>3</th>\n",
              "      <td>37.0</td>\n",
              "      <td>1.0</td>\n",
              "      <td>130.0</td>\n",
              "      <td>250.0</td>\n",
              "      <td>0.0</td>\n",
              "      <td>0.0</td>\n",
              "      <td>187.0</td>\n",
              "      <td>0.0</td>\n",
              "      <td>3.5</td>\n",
              "      <td>3.0</td>\n",
              "      <td>0.0</td>\n",
              "      <td>3.0</td>\n",
              "      <td>0</td>\n",
              "      <td>0</td>\n",
              "      <td>1</td>\n",
              "      <td>0</td>\n",
              "    </tr>\n",
              "    <tr>\n",
              "      <th>4</th>\n",
              "      <td>41.0</td>\n",
              "      <td>0.0</td>\n",
              "      <td>130.0</td>\n",
              "      <td>204.0</td>\n",
              "      <td>0.0</td>\n",
              "      <td>2.0</td>\n",
              "      <td>172.0</td>\n",
              "      <td>0.0</td>\n",
              "      <td>1.4</td>\n",
              "      <td>1.0</td>\n",
              "      <td>0.0</td>\n",
              "      <td>3.0</td>\n",
              "      <td>0</td>\n",
              "      <td>1</td>\n",
              "      <td>0</td>\n",
              "      <td>0</td>\n",
              "    </tr>\n",
              "  </tbody>\n",
              "</table>\n",
              "</div>"
            ],
            "text/plain": [
              "    age  sex  restbp   chol  fbs  ...  thal  cp_1.0  cp_2.0  cp_3.0  cp_4.0\n",
              "0  63.0  1.0   145.0  233.0  1.0  ...   6.0       1       0       0       0\n",
              "1  67.0  1.0   160.0  286.0  0.0  ...   3.0       0       0       0       1\n",
              "2  67.0  1.0   120.0  229.0  0.0  ...   7.0       0       0       0       1\n",
              "3  37.0  1.0   130.0  250.0  0.0  ...   3.0       0       0       1       0\n",
              "4  41.0  0.0   130.0  204.0  0.0  ...   3.0       0       1       0       0\n",
              "\n",
              "[5 rows x 16 columns]"
            ]
          },
          "metadata": {
            "tags": []
          },
          "execution_count": 57
        }
      ]
    },
    {
      "cell_type": "markdown",
      "metadata": {
        "id": "1AcM1Lf_3GZC",
        "colab_type": "text"
      },
      "source": [
        "As we can see in the printout above, `get_dummies()` puts all of the columns it does not process in the front and it puts **cp** at the end. It also split **cp** into **4** columns, just like we expected it. **cp_1.0** is `1` for any patient that scored a **1** for chest pain and `0` for all other patients. **cp_2.0** is `1` for any patient that scored **2** for chest pain and `0` for all other patients. **cp_3.0** is `1` for any patient that scored **3** for chest pain and **cp_4.0** is `1` for any patient that scored **4** for chest pain.\n",
        "\n",
        "Now that we see how `get_dummies()` works, let's use it on the four categorical columns that have more than 2 categories and save the result.\n",
        "\n",
        "**NOTE:** In practice you should verify all 5 of these columns to make sure they only contain\n",
        "the accepted categories."
      ]
    },
    {
      "cell_type": "code",
      "metadata": {
        "id": "2DUwXU0S3GZD",
        "colab_type": "code",
        "outputId": "e1f2d206-49ac-4468-8419-2c087250923c",
        "colab": {
          "base_uri": "https://localhost:8080/",
          "height": 215
        }
      },
      "source": [
        "X_encoded = pd.get_dummies(X, columns=['cp','restecg','slope','thal'])\n",
        "X_encoded.head()"
      ],
      "execution_count": 0,
      "outputs": [
        {
          "output_type": "execute_result",
          "data": {
            "text/html": [
              "<div>\n",
              "<style scoped>\n",
              "    .dataframe tbody tr th:only-of-type {\n",
              "        vertical-align: middle;\n",
              "    }\n",
              "\n",
              "    .dataframe tbody tr th {\n",
              "        vertical-align: top;\n",
              "    }\n",
              "\n",
              "    .dataframe thead th {\n",
              "        text-align: right;\n",
              "    }\n",
              "</style>\n",
              "<table border=\"1\" class=\"dataframe\">\n",
              "  <thead>\n",
              "    <tr style=\"text-align: right;\">\n",
              "      <th></th>\n",
              "      <th>age</th>\n",
              "      <th>sex</th>\n",
              "      <th>restbp</th>\n",
              "      <th>chol</th>\n",
              "      <th>fbs</th>\n",
              "      <th>thalach</th>\n",
              "      <th>exang</th>\n",
              "      <th>oldpeak</th>\n",
              "      <th>ca</th>\n",
              "      <th>cp_1.0</th>\n",
              "      <th>cp_2.0</th>\n",
              "      <th>cp_3.0</th>\n",
              "      <th>cp_4.0</th>\n",
              "      <th>restecg_0.0</th>\n",
              "      <th>restecg_1.0</th>\n",
              "      <th>restecg_2.0</th>\n",
              "      <th>slope_1.0</th>\n",
              "      <th>slope_2.0</th>\n",
              "      <th>slope_3.0</th>\n",
              "      <th>thal_3.0</th>\n",
              "      <th>thal_6.0</th>\n",
              "      <th>thal_7.0</th>\n",
              "    </tr>\n",
              "  </thead>\n",
              "  <tbody>\n",
              "    <tr>\n",
              "      <th>0</th>\n",
              "      <td>63.0</td>\n",
              "      <td>1.0</td>\n",
              "      <td>145.0</td>\n",
              "      <td>233.0</td>\n",
              "      <td>1.0</td>\n",
              "      <td>150.0</td>\n",
              "      <td>0.0</td>\n",
              "      <td>2.3</td>\n",
              "      <td>0.0</td>\n",
              "      <td>1</td>\n",
              "      <td>0</td>\n",
              "      <td>0</td>\n",
              "      <td>0</td>\n",
              "      <td>0</td>\n",
              "      <td>0</td>\n",
              "      <td>1</td>\n",
              "      <td>0</td>\n",
              "      <td>0</td>\n",
              "      <td>1</td>\n",
              "      <td>0</td>\n",
              "      <td>1</td>\n",
              "      <td>0</td>\n",
              "    </tr>\n",
              "    <tr>\n",
              "      <th>1</th>\n",
              "      <td>67.0</td>\n",
              "      <td>1.0</td>\n",
              "      <td>160.0</td>\n",
              "      <td>286.0</td>\n",
              "      <td>0.0</td>\n",
              "      <td>108.0</td>\n",
              "      <td>1.0</td>\n",
              "      <td>1.5</td>\n",
              "      <td>3.0</td>\n",
              "      <td>0</td>\n",
              "      <td>0</td>\n",
              "      <td>0</td>\n",
              "      <td>1</td>\n",
              "      <td>0</td>\n",
              "      <td>0</td>\n",
              "      <td>1</td>\n",
              "      <td>0</td>\n",
              "      <td>1</td>\n",
              "      <td>0</td>\n",
              "      <td>1</td>\n",
              "      <td>0</td>\n",
              "      <td>0</td>\n",
              "    </tr>\n",
              "    <tr>\n",
              "      <th>2</th>\n",
              "      <td>67.0</td>\n",
              "      <td>1.0</td>\n",
              "      <td>120.0</td>\n",
              "      <td>229.0</td>\n",
              "      <td>0.0</td>\n",
              "      <td>129.0</td>\n",
              "      <td>1.0</td>\n",
              "      <td>2.6</td>\n",
              "      <td>2.0</td>\n",
              "      <td>0</td>\n",
              "      <td>0</td>\n",
              "      <td>0</td>\n",
              "      <td>1</td>\n",
              "      <td>0</td>\n",
              "      <td>0</td>\n",
              "      <td>1</td>\n",
              "      <td>0</td>\n",
              "      <td>1</td>\n",
              "      <td>0</td>\n",
              "      <td>0</td>\n",
              "      <td>0</td>\n",
              "      <td>1</td>\n",
              "    </tr>\n",
              "    <tr>\n",
              "      <th>3</th>\n",
              "      <td>37.0</td>\n",
              "      <td>1.0</td>\n",
              "      <td>130.0</td>\n",
              "      <td>250.0</td>\n",
              "      <td>0.0</td>\n",
              "      <td>187.0</td>\n",
              "      <td>0.0</td>\n",
              "      <td>3.5</td>\n",
              "      <td>0.0</td>\n",
              "      <td>0</td>\n",
              "      <td>0</td>\n",
              "      <td>1</td>\n",
              "      <td>0</td>\n",
              "      <td>1</td>\n",
              "      <td>0</td>\n",
              "      <td>0</td>\n",
              "      <td>0</td>\n",
              "      <td>0</td>\n",
              "      <td>1</td>\n",
              "      <td>1</td>\n",
              "      <td>0</td>\n",
              "      <td>0</td>\n",
              "    </tr>\n",
              "    <tr>\n",
              "      <th>4</th>\n",
              "      <td>41.0</td>\n",
              "      <td>0.0</td>\n",
              "      <td>130.0</td>\n",
              "      <td>204.0</td>\n",
              "      <td>0.0</td>\n",
              "      <td>172.0</td>\n",
              "      <td>0.0</td>\n",
              "      <td>1.4</td>\n",
              "      <td>0.0</td>\n",
              "      <td>0</td>\n",
              "      <td>1</td>\n",
              "      <td>0</td>\n",
              "      <td>0</td>\n",
              "      <td>0</td>\n",
              "      <td>0</td>\n",
              "      <td>1</td>\n",
              "      <td>1</td>\n",
              "      <td>0</td>\n",
              "      <td>0</td>\n",
              "      <td>1</td>\n",
              "      <td>0</td>\n",
              "      <td>0</td>\n",
              "    </tr>\n",
              "  </tbody>\n",
              "</table>\n",
              "</div>"
            ],
            "text/plain": [
              "    age  sex  restbp   chol  ...  slope_3.0  thal_3.0  thal_6.0  thal_7.0\n",
              "0  63.0  1.0   145.0  233.0  ...          1         0         1         0\n",
              "1  67.0  1.0   160.0  286.0  ...          0         1         0         0\n",
              "2  67.0  1.0   120.0  229.0  ...          0         0         0         1\n",
              "3  37.0  1.0   130.0  250.0  ...          1         1         0         0\n",
              "4  41.0  0.0   130.0  204.0  ...          0         1         0         0\n",
              "\n",
              "[5 rows x 22 columns]"
            ]
          },
          "metadata": {
            "tags": []
          },
          "execution_count": 58
        }
      ]
    },
    {
      "cell_type": "markdown",
      "metadata": {
        "id": "aHdmyAKZ3GZG",
        "colab_type": "text"
      },
      "source": [
        "# \n",
        "Now we need to talk about the **3** categorical columns that only contain **0**s and **1**s: **sex**, **fbs** (fasting blood sugar), and **exang** (exercise induced angina). As we can see, **One-Hot Encoding** converts a column with more than **2** categories, like **cp** (chest pain) into multiple columns of **0**s and **1**s. Since **sex**, **fbs**, and **exang** only have **2** categories and only contain **0**s and **1**s to begin with, we do not have to do anything special to them, so we're done formatting the data for the **Classification Tree**.\n",
        "\n",
        "**NOTE:** In practice we would use `unique()` to verify that they only contain **0**s and **1**s, but to save time...trust me!"
      ]
    },
    {
      "cell_type": "markdown",
      "metadata": {
        "id": "zMBq7VmO3GZG",
        "colab_type": "text"
      },
      "source": [
        "Now, one last thing before we build a Classification Tree.  `y` doesn't just contain **0**s and **1**s. Instead, it has **5** different levels of heart disease. **0 =** no heart disease and **1-4** are various degrees of heart disease. We can see this with `unique()`:"
      ]
    },
    {
      "cell_type": "code",
      "metadata": {
        "id": "vIxi20Cx3GZG",
        "colab_type": "code",
        "outputId": "a5b1dc31-e40c-4d7f-a51e-e51bdbf18870",
        "colab": {
          "base_uri": "https://localhost:8080/",
          "height": 34
        }
      },
      "source": [
        "y.unique()"
      ],
      "execution_count": 0,
      "outputs": [
        {
          "output_type": "execute_result",
          "data": {
            "text/plain": [
              "array([0, 2, 1, 3, 4])"
            ]
          },
          "metadata": {
            "tags": []
          },
          "execution_count": 59
        }
      ]
    },
    {
      "cell_type": "markdown",
      "metadata": {
        "id": "VWdZ_XV63GZO",
        "colab_type": "text"
      },
      "source": [
        "Since we're only making a tree that does simple classification and only care if someone has heart disease or not, we need to convert all numbers **> 0** to **1**."
      ]
    },
    {
      "cell_type": "code",
      "metadata": {
        "id": "j3Lohzx73GZO",
        "colab_type": "code",
        "colab": {}
      },
      "source": [
        "y=np.where(y>0,1,0)"
      ],
      "execution_count": 0,
      "outputs": []
    },
    {
      "cell_type": "code",
      "metadata": {
        "id": "Esj0nlt88yEr",
        "colab_type": "code",
        "outputId": "7824cc86-de94-4b11-d80d-ce657e025b82",
        "colab": {
          "base_uri": "https://localhost:8080/",
          "height": 34
        }
      },
      "source": [
        "np.unique(y)"
      ],
      "execution_count": 0,
      "outputs": [
        {
          "output_type": "execute_result",
          "data": {
            "text/plain": [
              "array([0, 1])"
            ]
          },
          "metadata": {
            "tags": []
          },
          "execution_count": 66
        }
      ]
    },
    {
      "cell_type": "markdown",
      "metadata": {
        "id": "Wg48FS2D3GZQ",
        "colab_type": "text"
      },
      "source": [
        "#\n",
        "\n",
        "We have finally finished formatting the data for making a **Classification Tree**, so let's do it!!!\n",
        "\n",
        "----"
      ]
    },
    {
      "cell_type": "markdown",
      "metadata": {
        "id": "cP6DseLB3GZR",
        "colab_type": "text"
      },
      "source": [
        "<a id=\"build-tree\"></a>\n",
        "# Task 7: Build A Preliminary Classification Tree\n",
        "At long last, the data is correctly formatted for making a **Classification Tree**. Now we simply split the data into **training** and **testing** sets and build the tree."
      ]
    },
    {
      "cell_type": "code",
      "metadata": {
        "id": "iWeeyLJt3GZR",
        "colab_type": "code",
        "colab": {}
      },
      "source": [
        "X_train, X_test, y_train, y_test = train_test_split(X, y, random_state=42)\n",
        "clf_dt = DecisionTreeClassifier(random_state=42)\n",
        "clf_dt = clf_dt.fit(X_train, y_train)"
      ],
      "execution_count": 0,
      "outputs": []
    },
    {
      "cell_type": "markdown",
      "metadata": {
        "id": "BrYYnAgq3GZT",
        "colab_type": "text"
      },
      "source": [
        "OK, we've built a **Classification Tree** for classification. Let's see how it performs on the **Testing Dataset** by running the **Testing Dataset** down the tree and drawing a **Confusion Matrix**."
      ]
    },
    {
      "cell_type": "code",
      "metadata": {
        "id": "qfRFAby03GZT",
        "colab_type": "code",
        "outputId": "03d94894-a65e-452e-c6c3-fa146a3d2fc1",
        "colab": {
          "base_uri": "https://localhost:8080/",
          "height": 296
        }
      },
      "source": [
        "plot_confusion_matrix(clf_dt, X_test, y_test, display_labels=[\"Does not have HD\", \"Has HD\"])"
      ],
      "execution_count": 0,
      "outputs": [
        {
          "output_type": "execute_result",
          "data": {
            "text/plain": [
              "<sklearn.metrics._plot.confusion_matrix.ConfusionMatrixDisplay at 0x7fca2f51c400>"
            ]
          },
          "metadata": {
            "tags": []
          },
          "execution_count": 69
        },
        {
          "output_type": "display_data",
          "data": {
            "image/png": "[encoded data removed]",
            "text/plain": [
              "<Figure size 432x288 with 2 Axes>"
            ]
          },
          "metadata": {
            "tags": [],
            "needs_background": "light"
          }
        }
      ]
    },
    {
      "cell_type": "markdown",
      "metadata": {
        "id": "jEJgH0nO3GZW",
        "colab_type": "text"
      },
      "source": [
        "In the confusion matrix, we see that of the **25 + 17 = 42** people that did not have **Heart Disease**, **25 (59%)** were correctly classified. And of the **9 + 24 = 33** people that have **Heart Disease**, **24 (73%)** were correctly classified. Can we do better? One thing that might be holding this **Classification Tree** back is that it may have **over fit** the training dataset. So let's prune the tree. Pruning, in theory, should solve the over fitting problem and give us better results.\n",
        "\n",
        "----"
      ]
    },
    {
      "cell_type": "markdown",
      "metadata": {
        "id": "4KS3-CIa3GZW",
        "colab_type": "text"
      },
      "source": [
        "<a id=\"prune-tree\"></a>\n",
        "# Task 8: Cost Complexity Pruning Part 1: Visualize alpha\n",
        "\n",
        "**Decision Trees** are notorious for being **overfit** to the **Training Dataset**, so let's prune this tree in hopes that we can improve the accuracy with the **Testing Dataset**."
      ]
    },
    {
      "cell_type": "markdown",
      "metadata": {
        "id": "YWh6kg3N3GZX",
        "colab_type": "text"
      },
      "source": [
        "Pruning a decision tree is all about finding the right value for the pruning parameter, `alpha`, which controls how little or how much pruning happens. One way to find the optimal value for `alpha` is to plot the accuracy of the tree as a function of different values for `alpha`.  We'll do this for both the **Training Dataset** and the **Testing Dataset**.\n",
        "\n",
        "First, let's extract the different values of `alpha` that are available for this tree and build a pruned tree for each value for `alpha`. **NOTE:** We omit the maximum value for alpha because it would prune all leaves, leaving us with only a root instead of a tree, with the following: `ccp_alphas = ccp_alphas[:-1]`."
      ]
    },
    {
      "cell_type": "code",
      "metadata": {
        "id": "eeLdWFBn3GZX",
        "colab_type": "code",
        "colab": {}
      },
      "source": [
        "path = clf_dt.cost_complexity_pruning_path(X_train, y_train)\n",
        "ccp_alphas, impurities = path.ccp_alphas, path.impurities\n",
        "ccp_alphas = ccp_alphas[:-1] #leaving out the last prune where it takes away all the leaf nodes.\n",
        "\n",
        "clf_dts = []\n",
        "for ccp_alpha in ccp_alphas:\n",
        "    clf_dt = DecisionTreeClassifier(random_state=0, ccp_alpha=ccp_alpha)\n",
        "    clf_dt.fit(X_train, y_train)\n",
        "    clf_dts.append(clf_dt)"
      ],
      "execution_count": 0,
      "outputs": []
    },
    {
      "cell_type": "markdown",
      "metadata": {
        "id": "siuSsQll3GZZ",
        "colab_type": "text"
      },
      "source": [
        "Now let's graph the accuracy of the trees using the **Training Dataset** and the **Testing Dataset** as a function of alpha."
      ]
    },
    {
      "cell_type": "code",
      "metadata": {
        "id": "T1_fFE-I3GZZ",
        "colab_type": "code",
        "outputId": "cdc0a4f1-c76e-433a-96c5-13fb9ca33ad4",
        "colab": {
          "base_uri": "https://localhost:8080/",
          "height": 295
        }
      },
      "source": [
        "train_scores = [clf_dt.score(X_train, y_train) for clf_dt in clf_dts]\n",
        "test_scores = [clf_dt.score(X_test, y_test) for clf_dt in clf_dts]\n",
        "\n",
        "fig, ax = plt.subplots()\n",
        "ax.set_xlabel(\"alpha\")\n",
        "ax.set_ylabel(\"accuracy\")\n",
        "ax.set_title(\"Accuracy vs alpha for training and testing sets\")\n",
        "ax.plot(ccp_alphas, train_scores, marker='o', label=\"train\", drawstyle=\"steps-post\")\n",
        "ax.plot(ccp_alphas, test_scores, marker='o', label=\"test\", drawstyle=\"steps-post\")\n",
        "ax.legend()\n",
        "plt.show()"
      ],
      "execution_count": 0,
      "outputs": [
        {
          "output_type": "display_data",
          "data": {
            "image/png": "[encoded data removed]",
            "text/plain": [
              "<Figure size 432x288 with 1 Axes>"
            ]
          },
          "metadata": {
            "tags": [],
            "needs_background": "light"
          }
        }
      ]
    },
    {
      "cell_type": "markdown",
      "metadata": {
        "id": "DfyDfW-93GZc",
        "colab_type": "text"
      },
      "source": [
        "In the graph above, we see that the accuracy for the **Testing Dataset** hits its maximum value when `alpha` is about **0.016**. After this value for `alpha`, the accuracy of the **Training Dataset** drops off and that suggest we should set `ccp_alpha=0.016`.\n",
        "\n",
        "However, since there are many ways we could have divided the original dataset into **Training** and **Testing** datasets, how do we know we used the best **Training Dataset** and how do we know we used the best **Testing Dataset**? Typically, we answer this question with **10-Fold Cross Validation**. So that's what we're going to do now, and we'll do it with the `cross_val_score()` function.\n",
        "\n",
        "----"
      ]
    },
    {
      "cell_type": "markdown",
      "metadata": {
        "id": "34Qxac9C3GZc",
        "colab_type": "text"
      },
      "source": [
        "# Task 9: Cost Complexity Pruning Part 2: Cross Validation For Finding the Best Alpha\n",
        "\n",
        "The graphs we just drew suggest one value for alpha, **0.016**, but another\n",
        "set of data might suggest another optimal value. \n",
        "\n",
        "<!-- **Terminology Alert!!!** Since, ultimately, we have to decide on one value for `alpha`, and\n",
        "the **Decision Tree** algorithm will not do this for us, `alpha` is called a **Hyperparameter** to differentiate it from the parameters that the **Decision Tree** algorithm can take care of on its own. -->\n",
        "\n",
        "First, let's demonstrate that different training and testing datasets result in trees with different accuracies:"
      ]
    },
    {
      "cell_type": "code",
      "metadata": {
        "id": "7M5d0IFX3GZd",
        "colab_type": "code",
        "outputId": "54d5bff9-3d79-4a55-de6b-c275fb84747a",
        "colab": {
          "base_uri": "https://localhost:8080/",
          "height": 296
        }
      },
      "source": [
        "clf_dt = DecisionTreeClassifier(random_state=42, ccp_alpha=0.016)\n",
        "scores = cross_val_score(clf_dt, X_train, y_train, cv=5)\n",
        "df = pd.DataFrame(data={'tree': range(5), 'accuracy': scores})\n",
        "\n",
        "df.plot(x='tree', y='accuracy', marker='o', linestyle='--')"
      ],
      "execution_count": 0,
      "outputs": [
        {
          "output_type": "execute_result",
          "data": {
            "text/plain": [
              "<matplotlib.axes._subplots.AxesSubplot at 0x7fca2eed8be0>"
            ]
          },
          "metadata": {
            "tags": []
          },
          "execution_count": 72
        },
        {
          "output_type": "display_data",
          "data": {
            "image/png": "[encoded data removed]",
            "text/plain": [
              "<Figure size 432x288 with 1 Axes>"
            ]
          },
          "metadata": {
            "tags": [],
            "needs_background": "light"
          }
        }
      ]
    },
    {
      "cell_type": "markdown",
      "metadata": {
        "id": "VSGn0brj3GZf",
        "colab_type": "text"
      },
      "source": [
        "So we see that using different **Training** and **Testing** data results in different accuracies.\n",
        "\n",
        "Now let's use **cross validation** to find the optimal value for `ccp_alpha`."
      ]
    },
    {
      "cell_type": "code",
      "metadata": {
        "id": "HklKcZpM3GZf",
        "colab_type": "code",
        "outputId": "856aeea6-aa75-4d79-ca20-a4914f2185f8",
        "colab": {
          "base_uri": "https://localhost:8080/",
          "height": 300
        }
      },
      "source": [
        "alpha_loop_values = []\n",
        "for ccp_alpha in ccp_alphas:\n",
        "    clf_dt = DecisionTreeClassifier(random_state=0, ccp_alpha=ccp_alpha)\n",
        "    scores = cross_val_score(clf_dt, X_train, y_train, cv=5)\n",
        "    alpha_loop_values.append([ccp_alpha, np.mean(scores), np.std(scores)])\n",
        "    \n",
        "alpha_results = pd.DataFrame(alpha_loop_values, \n",
        "                             columns=['alpha', 'mean_accuracy', 'std'])\n",
        "\n",
        "alpha_results.plot(x='alpha', \n",
        "                   y='mean_accuracy', \n",
        "                   yerr='std', \n",
        "                   marker='o', \n",
        "                   linestyle='--')"
      ],
      "execution_count": 0,
      "outputs": [
        {
          "output_type": "execute_result",
          "data": {
            "text/plain": [
              "<matplotlib.axes._subplots.AxesSubplot at 0x7fca2ee59438>"
            ]
          },
          "metadata": {
            "tags": []
          },
          "execution_count": 73
        },
        {
          "output_type": "display_data",
          "data": {
            "image/png": "[encoded data removed]",
            "text/plain": [
              "<Figure size 432x288 with 1 Axes>"
            ]
          },
          "metadata": {
            "tags": [],
            "needs_background": "light"
          }
        }
      ]
    },
    {
      "cell_type": "markdown",
      "metadata": {
        "id": "NlyqPkNQ3GZh",
        "colab_type": "text"
      },
      "source": [
        "Using cross validation, we can see that, over all, instead of setting `ccp_alpha=0.016`,  we need to set it to something closer to **0.014**. We can find the exact value with:"
      ]
    },
    {
      "cell_type": "code",
      "metadata": {
        "id": "nJ-U7p2I3GZi",
        "colab_type": "code",
        "outputId": "48d5ecac-4b7c-4139-a0bf-1e0f1dda9cd8",
        "colab": {
          "base_uri": "https://localhost:8080/",
          "height": 77
        }
      },
      "source": [
        "alpha_results[(alpha_results['alpha'] > 0.014) & (alpha_results['alpha'] < 0.015)]"
      ],
      "execution_count": 0,
      "outputs": [
        {
          "output_type": "execute_result",
          "data": {
            "text/html": [
              "<div>\n",
              "<style scoped>\n",
              "    .dataframe tbody tr th:only-of-type {\n",
              "        vertical-align: middle;\n",
              "    }\n",
              "\n",
              "    .dataframe tbody tr th {\n",
              "        vertical-align: top;\n",
              "    }\n",
              "\n",
              "    .dataframe thead th {\n",
              "        text-align: right;\n",
              "    }\n",
              "</style>\n",
              "<table border=\"1\" class=\"dataframe\">\n",
              "  <thead>\n",
              "    <tr style=\"text-align: right;\">\n",
              "      <th></th>\n",
              "      <th>alpha</th>\n",
              "      <th>mean_accuracy</th>\n",
              "      <th>std</th>\n",
              "    </tr>\n",
              "  </thead>\n",
              "  <tbody>\n",
              "    <tr>\n",
              "      <th>21</th>\n",
              "      <td>0.014225</td>\n",
              "      <td>0.738788</td>\n",
              "      <td>0.098832</td>\n",
              "    </tr>\n",
              "  </tbody>\n",
              "</table>\n",
              "</div>"
            ],
            "text/plain": [
              "       alpha  mean_accuracy       std\n",
              "21  0.014225       0.738788  0.098832"
            ]
          },
          "metadata": {
            "tags": []
          },
          "execution_count": 74
        }
      ]
    },
    {
      "cell_type": "markdown",
      "metadata": {
        "id": "ALj8TU803GZk",
        "colab_type": "text"
      },
      "source": [
        "Now let's store the ideal value for alpha so that we can use it to build the best tree."
      ]
    },
    {
      "cell_type": "code",
      "metadata": {
        "id": "ASOGjBAn3GZk",
        "colab_type": "code",
        "outputId": "f1e7cea1-9607-475b-b3ca-a19aa6d64ca7",
        "colab": {
          "base_uri": "https://localhost:8080/",
          "height": 50
        }
      },
      "source": [
        "ideal_ccp_alpha = alpha_results[(alpha_results['alpha'] > 0.014) & (alpha_results['alpha'] < 0.015)]['alpha']\n",
        "\n",
        "ideal_ccp_alpha"
      ],
      "execution_count": 0,
      "outputs": [
        {
          "output_type": "execute_result",
          "data": {
            "text/plain": [
              "21    0.014225\n",
              "Name: alpha, dtype: float64"
            ]
          },
          "metadata": {
            "tags": []
          },
          "execution_count": 75
        }
      ]
    },
    {
      "cell_type": "markdown",
      "metadata": {
        "id": "ZKPbCpwN3GZm",
        "colab_type": "text"
      },
      "source": [
        "**NOTE** At this point Python thinks that `ideal_ccp_alpha` is a `series`. We can tell because when we printed `ideal_ccp_alpha` out, we got two bits of stuff. The first one was `20`, which is the index in the series, the second one, `0.014225`, is the value we want. So we can convert this from a series to a float with the following command:"
      ]
    },
    {
      "cell_type": "code",
      "metadata": {
        "id": "B3e-VRTQ3GZm",
        "colab_type": "code",
        "outputId": "234dfe63-4829-4491-a495-05a723a89ea5",
        "colab": {
          "base_uri": "https://localhost:8080/",
          "height": 34
        }
      },
      "source": [
        "\n",
        "ideal_ccp_alpha = float(ideal_ccp_alpha)\n",
        "ideal_ccp_alpha"
      ],
      "execution_count": 0,
      "outputs": [
        {
          "output_type": "execute_result",
          "data": {
            "text/plain": [
              "0.014224751066856332"
            ]
          },
          "metadata": {
            "tags": []
          },
          "execution_count": 76
        }
      ]
    },
    {
      "cell_type": "markdown",
      "metadata": {
        "id": "gyygBjKr3GZp",
        "colab_type": "text"
      },
      "source": [
        "Now we have the ideal value for `alpha` and we can build, evaluate and draw the final **Classification Tree**.\n",
        "\n",
        "\n",
        "----"
      ]
    },
    {
      "cell_type": "markdown",
      "metadata": {
        "id": "8QmSYTeV3GZp",
        "colab_type": "text"
      },
      "source": [
        "<a id=\"draw-tree\"></a>\n",
        "# Task 10: Building, Evaluating, Drawing, and Interpreting the Final Classification Tree\n",
        "\n",
        "Now that we have the ideal value for `alpha` we can build the final **Classification Tree** by setting `ccp_alpha`:"
      ]
    },
    {
      "cell_type": "code",
      "metadata": {
        "id": "-DWpN6ad3GZq",
        "colab_type": "code",
        "colab": {}
      },
      "source": [
        "clf_dt_pruned = DecisionTreeClassifier(random_state=42, \n",
        "                                       ccp_alpha=ideal_ccp_alpha)\n",
        "clf_dt_pruned = clf_dt_pruned.fit(X_train, y_train) "
      ],
      "execution_count": 0,
      "outputs": []
    },
    {
      "cell_type": "markdown",
      "metadata": {
        "id": "AKFYT8323GZv",
        "colab_type": "text"
      },
      "source": [
        "Now let's draw another confusion matrix to see if the pruned tree does better."
      ]
    },
    {
      "cell_type": "code",
      "metadata": {
        "id": "i4-J1piq3GZw",
        "colab_type": "code",
        "outputId": "010db49b-a512-471b-8d97-3b64a6752771",
        "colab": {
          "base_uri": "https://localhost:8080/",
          "height": 279
        }
      },
      "source": [
        "plot_confusion_matrix(clf_dt_pruned, \n",
        "                      X_test, \n",
        "                      y_test, \n",
        "                      display_labels=[\"Does not have HD\", \"Has HD\"]);"
      ],
      "execution_count": 0,
      "outputs": [
        {
          "output_type": "display_data",
          "data": {
            "image/png": "[encoded data removed]",
            "text/plain": [
              "<Figure size 432x288 with 2 Axes>"
            ]
          },
          "metadata": {
            "tags": [],
            "needs_background": "light"
          }
        }
      ]
    },
    {
      "cell_type": "markdown",
      "metadata": {
        "id": "RqX_eyNO3GZz",
        "colab_type": "text"
      },
      "source": [
        "We see that the pruned tree is better at classifying patients than the full sized tree. \n",
        "\n",
        "Of the **34 + 8 = 42** people that did not have heart disease, **34 (81%)** were correctly classified. This is a big improvement over the full sized tree, which only correctly classified **25 (59%)** of the patients without heart disease. Of the **5 + 28 = 33** people with heart disease, **28 (85%)** were correctly classified. Again, this is an improvement over the full sized tree, which only correctly classified **24 (73%)** of the patients with heart disease. Yay for pruning!"
      ]
    },
    {
      "cell_type": "markdown",
      "metadata": {
        "id": "m4b6up6F3GZ0",
        "colab_type": "text"
      },
      "source": [
        "The last thing we are going to do is draw the pruned tree and discuss how to interpret it."
      ]
    },
    {
      "cell_type": "code",
      "metadata": {
        "id": "CYkLLUiU3GZ0",
        "colab_type": "code",
        "outputId": "c4e3ce9c-e2f9-4105-ffa3-348e123962c1",
        "colab": {
          "base_uri": "https://localhost:8080/",
          "height": 439
        }
      },
      "source": [
        "plt.figure(figsize=(15,7.5))\n",
        "plot_tree(clf_dt_pruned, \n",
        "          filled=True, \n",
        "          rounded=True, \n",
        "          class_names=[\"No HD\", \"Yes HD\"], \n",
        "          feature_names=X.columns);"
      ],
      "execution_count": 0,
      "outputs": [
        {
          "output_type": "display_data",
          "data": {
            "image/png": "[encoded data removed]",
            "text/plain": [
              "<Figure size 1080x540 with 1 Axes>"
            ]
          },
          "metadata": {
            "tags": [],
            "needs_background": "light"
          }
        }
      ]
    },
    {
      "cell_type": "markdown",
      "metadata": {
        "id": "0IWb2uED3GZ4",
        "colab_type": "text"
      },
      "source": [
        "Now let's discuss how to interpret the tree.\n",
        "In each node, we have:\n",
        "- The variable (column name) and the threshold for splitting the observations. For example, in the tree's root, we use **ca** to split the observations. All\n",
        "observations with **ca <= 0.5** go to the **left** and all observations with **ca > 0.5** go to the **right**.\n",
        "- **gini** is the gini index or score for that node\n",
        "- **samples** tell us how many samples are in that node\n",
        "- **value** tells us how many samples in the node are in each category. In this example, we have two categories, **No** and **Yes**, referring to whether or not a patient has heart disease. The number of patients with **No** comes first because the categories are in alphabetical order. Thus, in the root, 118 patients have **No** and 104 patients have **Yes**.\n",
        "- **class** tells us whichever category is represented most in the node. In the root, since 118 people have **No** and only 104 people have **Yes**, class is set to **No**.\n",
        "\n",
        "The leaves are just like the nodes, except that they do not contain a variable and threshold for splitting the observations.\n",
        "\n",
        "The nodes and leaves are colored by the **class**. In this case **No** is different shades of orange-ish and **Yes** is different shades of blue. The the darker the shade, the lower the **gini** score, and that tells us how much the node or leaf is skewed towards one class."
      ]
    },
    {
      "cell_type": "markdown",
      "metadata": {
        "id": "xLPkXEZF3GZ5",
        "colab_type": "text"
      },
      "source": [
        "-----"
      ]
    },
    {
      "cell_type": "markdown",
      "metadata": {
        "id": "ymrNiyiv3GZ6",
        "colab_type": "text"
      },
      "source": [
        "# In conclusion we...\n",
        "\n",
        "- **[Loaded the Data From a File](#download-the-data)**\n",
        "\n",
        "- **[Identified and Dealt with Missing Data](#identify-and-deal-with-missing-data)**\n",
        "\n",
        "- **[Formatted the Data for Decision Trees using One-Hot Encoding](#one-hot-encoding)**\n",
        "\n",
        "- **[Built a Decision Tree for Classification](#build-tree)**\n",
        "\n",
        "- **[Pruned the Decision Tree with Cost Complexity Pruning](#prune-tree)**\n",
        "\n",
        "- **[Built, Drew, Interpreted and Evaluated the Final Decision Tree](#draw-tree)**"
      ]
    }
  ]
}
